{
 "cells": [
  {
   "cell_type": "markdown",
   "metadata": {},
   "source": [
    "# Python Intro\n",
    "Super speedy intro to variables, data types and loops"
   ]
  },
  {
   "cell_type": "markdown",
   "metadata": {},
   "source": [
    "## Variables"
   ]
  },
  {
   "cell_type": "code",
   "execution_count": null,
   "metadata": {
    "ExecuteTime": {
     "end_time": "2018-07-21T12:50:08.067437Z",
     "start_time": "2018-07-21T12:50:08.055206Z"
    }
   },
   "outputs": [],
   "source": [
    "4 + 5"
   ]
  },
  {
   "cell_type": "code",
   "execution_count": null,
   "metadata": {
    "ExecuteTime": {
     "end_time": "2018-07-21T12:50:08.633214Z",
     "start_time": "2018-07-21T12:50:08.626440Z"
    }
   },
   "outputs": [],
   "source": [
    "answer = 4 + 5\n",
    "print(answer)"
   ]
  },
  {
   "cell_type": "markdown",
   "metadata": {},
   "source": [
    "## Data Types\n",
    "\n",
    "```str = 'hi!'\n",
    "int = 5\n",
    "float = 5.5\n",
    "list = [2, 3, 5.5]\n",
    "dict = {'Name': 'Alice', \n",
    "        'Age': 83}\n",
    "tuples = ('Alice', 83)```"
   ]
  },
  {
   "cell_type": "code",
   "execution_count": null,
   "metadata": {
    "ExecuteTime": {
     "end_time": "2018-07-21T12:53:27.867239Z",
     "start_time": "2018-07-21T12:53:27.862276Z"
    },
    "collapsed": true
   },
   "outputs": [],
   "source": [
    "string = 'Hi there!'\n",
    "integer = 90\n",
    "decimal = 5.5"
   ]
  },
  {
   "cell_type": "code",
   "execution_count": null,
   "metadata": {
    "ExecuteTime": {
     "end_time": "2018-07-21T12:53:36.496617Z",
     "start_time": "2018-07-21T12:53:36.489560Z"
    }
   },
   "outputs": [],
   "source": [
    "type(string)"
   ]
  },
  {
   "cell_type": "code",
   "execution_count": null,
   "metadata": {
    "ExecuteTime": {
     "end_time": "2018-07-21T12:54:39.851724Z",
     "start_time": "2018-07-21T12:54:39.844284Z"
    }
   },
   "outputs": [],
   "source": [
    "print('String type is', type(string))\n",
    "print('Integer type is', type(integer))\n",
    "print('Decimal type is', type(decimal))"
   ]
  },
  {
   "cell_type": "code",
   "execution_count": null,
   "metadata": {
    "ExecuteTime": {
     "end_time": "2018-07-21T12:55:25.918337Z",
     "start_time": "2018-07-21T12:55:25.914308Z"
    },
    "collapsed": true
   },
   "outputs": [],
   "source": [
    "list_example = [9, 4000, 'hiya!', 5.5, '8', 4.0]"
   ]
  },
  {
   "cell_type": "code",
   "execution_count": null,
   "metadata": {
    "ExecuteTime": {
     "end_time": "2018-07-21T12:55:38.123052Z",
     "start_time": "2018-07-21T12:55:38.115358Z"
    }
   },
   "outputs": [],
   "source": [
    "type(list_example)"
   ]
  },
  {
   "cell_type": "markdown",
   "metadata": {},
   "source": [
    "## List Tricks!"
   ]
  },
  {
   "cell_type": "code",
   "execution_count": null,
   "metadata": {
    "ExecuteTime": {
     "end_time": "2018-07-21T12:59:55.964032Z",
     "start_time": "2018-07-21T12:59:55.957928Z"
    }
   },
   "outputs": [],
   "source": [
    "len(list_example)"
   ]
  },
  {
   "cell_type": "code",
   "execution_count": null,
   "metadata": {
    "ExecuteTime": {
     "end_time": "2018-07-21T13:00:12.005523Z",
     "start_time": "2018-07-21T13:00:12.000056Z"
    }
   },
   "outputs": [],
   "source": [
    "list_example[0]"
   ]
  },
  {
   "cell_type": "code",
   "execution_count": null,
   "metadata": {
    "ExecuteTime": {
     "end_time": "2018-07-21T13:00:29.968306Z",
     "start_time": "2018-07-21T13:00:29.961671Z"
    }
   },
   "outputs": [],
   "source": [
    "list_example[2]"
   ]
  },
  {
   "cell_type": "code",
   "execution_count": null,
   "metadata": {
    "ExecuteTime": {
     "end_time": "2018-07-21T13:00:54.970582Z",
     "start_time": "2018-07-21T13:00:54.964357Z"
    }
   },
   "outputs": [],
   "source": [
    "print(type(list_example[0]))\n",
    "print(type(list_example[2]))"
   ]
  },
  {
   "cell_type": "code",
   "execution_count": null,
   "metadata": {
    "ExecuteTime": {
     "end_time": "2018-07-21T13:02:05.366896Z",
     "start_time": "2018-07-21T13:02:05.362242Z"
    }
   },
   "outputs": [],
   "source": [
    "list_example[-1]"
   ]
  },
  {
   "cell_type": "code",
   "execution_count": null,
   "metadata": {
    "ExecuteTime": {
     "end_time": "2018-07-21T13:02:45.546615Z",
     "start_time": "2018-07-21T13:02:45.541372Z"
    }
   },
   "outputs": [],
   "source": [
    "sentence = \"Ah! There is nothing like staying at home, for real comfort.\"\n",
    "print(sentence)"
   ]
  },
  {
   "cell_type": "code",
   "execution_count": null,
   "metadata": {
    "ExecuteTime": {
     "end_time": "2018-07-21T13:02:47.083721Z",
     "start_time": "2018-07-21T13:02:47.076470Z"
    }
   },
   "outputs": [],
   "source": [
    "len(sentence)"
   ]
  },
  {
   "cell_type": "code",
   "execution_count": null,
   "metadata": {
    "ExecuteTime": {
     "end_time": "2018-07-21T13:03:44.747581Z",
     "start_time": "2018-07-21T13:03:44.741001Z"
    }
   },
   "outputs": [],
   "source": [
    "word_list = sentence.split()\n",
    "print(word_list)"
   ]
  },
  {
   "cell_type": "code",
   "execution_count": null,
   "metadata": {
    "ExecuteTime": {
     "end_time": "2018-07-21T13:03:44.952737Z",
     "start_time": "2018-07-21T13:03:44.947413Z"
    }
   },
   "outputs": [],
   "source": [
    "len(word_list)"
   ]
  },
  {
   "cell_type": "code",
   "execution_count": null,
   "metadata": {
    "ExecuteTime": {
     "end_time": "2018-07-21T13:03:45.244929Z",
     "start_time": "2018-07-21T13:03:45.239636Z"
    }
   },
   "outputs": [],
   "source": [
    "type(word_list)"
   ]
  },
  {
   "cell_type": "code",
   "execution_count": null,
   "metadata": {
    "ExecuteTime": {
     "end_time": "2018-07-21T13:03:45.458508Z",
     "start_time": "2018-07-21T13:03:45.454471Z"
    },
    "collapsed": true
   },
   "outputs": [],
   "source": [
    "word_list.append('Truth.')"
   ]
  },
  {
   "cell_type": "code",
   "execution_count": null,
   "metadata": {
    "ExecuteTime": {
     "end_time": "2018-07-21T13:03:45.703544Z",
     "start_time": "2018-07-21T13:03:45.696788Z"
    }
   },
   "outputs": [],
   "source": [
    "word_list"
   ]
  },
  {
   "cell_type": "code",
   "execution_count": null,
   "metadata": {
    "ExecuteTime": {
     "end_time": "2018-07-21T13:03:47.615120Z",
     "start_time": "2018-07-21T13:03:47.608602Z"
    }
   },
   "outputs": [],
   "source": [
    "word_list.remove('Truth.')\n",
    "word_list"
   ]
  },
  {
   "cell_type": "code",
   "execution_count": null,
   "metadata": {
    "ExecuteTime": {
     "end_time": "2018-07-21T13:26:32.844356Z",
     "start_time": "2018-07-21T13:26:32.836760Z"
    }
   },
   "outputs": [],
   "source": [
    "word_list[0:3]"
   ]
  },
  {
   "cell_type": "code",
   "execution_count": null,
   "metadata": {
    "ExecuteTime": {
     "end_time": "2018-07-21T13:26:37.710531Z",
     "start_time": "2018-07-21T13:26:37.704935Z"
    }
   },
   "outputs": [],
   "source": [
    "word_list[3]"
   ]
  },
  {
   "cell_type": "code",
   "execution_count": null,
   "metadata": {
    "ExecuteTime": {
     "end_time": "2018-07-21T13:26:51.687858Z",
     "start_time": "2018-07-21T13:26:51.682274Z"
    }
   },
   "outputs": [],
   "source": [
    "word_list[:10]"
   ]
  },
  {
   "cell_type": "code",
   "execution_count": null,
   "metadata": {
    "ExecuteTime": {
     "end_time": "2018-07-21T13:03:50.051427Z",
     "start_time": "2018-07-21T13:03:50.044051Z"
    }
   },
   "outputs": [],
   "source": [
    "number_list = [1 , 2, 6, 7]\n",
    "number_list"
   ]
  },
  {
   "cell_type": "markdown",
   "metadata": {},
   "source": [
    "## Dictionaries"
   ]
  },
  {
   "cell_type": "code",
   "execution_count": null,
   "metadata": {
    "ExecuteTime": {
     "end_time": "2018-07-21T13:11:34.789815Z",
     "start_time": "2018-07-21T13:11:34.784118Z"
    }
   },
   "outputs": [],
   "source": [
    "dictionary_numbers_words = {'numbers': number_list, 'words': word_list}\n",
    "print(dictionary_numbers_words)"
   ]
  },
  {
   "cell_type": "code",
   "execution_count": null,
   "metadata": {
    "ExecuteTime": {
     "end_time": "2018-06-08T16:25:10.597322Z",
     "start_time": "2018-06-08T16:25:10.589980Z"
    }
   },
   "outputs": [],
   "source": [
    "dictionary_numbers_words['numbers']"
   ]
  },
  {
   "cell_type": "code",
   "execution_count": null,
   "metadata": {
    "ExecuteTime": {
     "end_time": "2018-06-08T16:24:50.926775Z",
     "start_time": "2018-06-08T16:24:50.920167Z"
    }
   },
   "outputs": [],
   "source": [
    "len(dictionary_numbers_words)"
   ]
  },
  {
   "cell_type": "code",
   "execution_count": null,
   "metadata": {
    "ExecuteTime": {
     "end_time": "2018-07-21T13:04:57.981791Z",
     "start_time": "2018-07-21T13:04:57.976166Z"
    },
    "collapsed": true
   },
   "outputs": [],
   "source": [
    "names = ['Alice', 'Bob', 'Charlie']\n",
    "ages = [92, 5, 33]"
   ]
  },
  {
   "cell_type": "code",
   "execution_count": null,
   "metadata": {
    "ExecuteTime": {
     "end_time": "2018-07-21T13:06:22.138452Z",
     "start_time": "2018-07-21T13:06:22.131760Z"
    }
   },
   "outputs": [],
   "source": [
    "name_ages_dictionary = {'Alice': 92,\n",
    "                       'Bob': 5,\n",
    "                       'Charlie': 33}\n",
    "name_ages_dictionary"
   ]
  },
  {
   "cell_type": "code",
   "execution_count": null,
   "metadata": {
    "ExecuteTime": {
     "end_time": "2018-07-21T13:06:42.769244Z",
     "start_time": "2018-07-21T13:06:42.763152Z"
    }
   },
   "outputs": [],
   "source": [
    "name_ages_dictionary['Bob']"
   ]
  },
  {
   "cell_type": "code",
   "execution_count": null,
   "metadata": {
    "ExecuteTime": {
     "end_time": "2018-07-21T13:09:16.415394Z",
     "start_time": "2018-07-21T13:09:16.409291Z"
    }
   },
   "outputs": [],
   "source": [
    "zipped = zip(names, ages)\n",
    "type(zipped)"
   ]
  },
  {
   "cell_type": "code",
   "execution_count": null,
   "metadata": {
    "ExecuteTime": {
     "end_time": "2018-07-21T13:09:16.589792Z",
     "start_time": "2018-07-21T13:09:16.582825Z"
    }
   },
   "outputs": [],
   "source": [
    "for pair in zipped:\n",
    "    print(pair)"
   ]
  },
  {
   "cell_type": "code",
   "execution_count": null,
   "metadata": {
    "ExecuteTime": {
     "end_time": "2018-07-21T13:07:18.124298Z",
     "start_time": "2018-07-21T13:07:18.116983Z"
    }
   },
   "outputs": [],
   "source": [
    "fast_dictionary = dict(zip(names, ages))\n",
    "fast_dictionary"
   ]
  },
  {
   "cell_type": "markdown",
   "metadata": {},
   "source": [
    "## For Loops"
   ]
  },
  {
   "cell_type": "code",
   "execution_count": null,
   "metadata": {
    "ExecuteTime": {
     "end_time": "2018-07-21T13:13:09.183751Z",
     "start_time": "2018-07-21T13:13:09.175664Z"
    }
   },
   "outputs": [],
   "source": [
    "for word in word_list:\n",
    "    print(word)"
   ]
  },
  {
   "cell_type": "code",
   "execution_count": null,
   "metadata": {
    "ExecuteTime": {
     "end_time": "2018-07-21T13:13:09.354773Z",
     "start_time": "2018-07-21T13:13:09.344583Z"
    }
   },
   "outputs": [],
   "source": [
    "for word in word_list:\n",
    "    print(word.upper())"
   ]
  },
  {
   "cell_type": "code",
   "execution_count": null,
   "metadata": {
    "ExecuteTime": {
     "end_time": "2018-07-21T13:13:20.357865Z",
     "start_time": "2018-07-21T13:13:20.351600Z"
    }
   },
   "outputs": [],
   "source": [
    "for number in number_list:\n",
    "    print(number)"
   ]
  },
  {
   "cell_type": "code",
   "execution_count": null,
   "metadata": {
    "ExecuteTime": {
     "end_time": "2018-07-21T13:13:39.947554Z",
     "start_time": "2018-07-21T13:13:39.941553Z"
    }
   },
   "outputs": [],
   "source": [
    "for number in number_list:\n",
    "    if number > 2:\n",
    "        print(number)"
   ]
  },
  {
   "cell_type": "markdown",
   "metadata": {},
   "source": [
    "## Comparison Operators"
   ]
  },
  {
   "cell_type": "code",
   "execution_count": null,
   "metadata": {
    "ExecuteTime": {
     "end_time": "2018-07-21T13:14:34.165934Z",
     "start_time": "2018-07-21T13:14:34.160638Z"
    }
   },
   "outputs": [],
   "source": [
    "len(number_list)"
   ]
  },
  {
   "cell_type": "code",
   "execution_count": null,
   "metadata": {
    "ExecuteTime": {
     "end_time": "2018-07-21T13:14:39.965874Z",
     "start_time": "2018-07-21T13:14:39.958835Z"
    }
   },
   "outputs": [],
   "source": [
    "len(number_list) == 4"
   ]
  },
  {
   "cell_type": "code",
   "execution_count": null,
   "metadata": {
    "ExecuteTime": {
     "end_time": "2018-07-21T13:15:52.192100Z",
     "start_time": "2018-07-21T13:15:52.186036Z"
    }
   },
   "outputs": [],
   "source": [
    "25 % 5"
   ]
  },
  {
   "cell_type": "code",
   "execution_count": null,
   "metadata": {
    "ExecuteTime": {
     "end_time": "2018-07-21T13:16:04.690737Z",
     "start_time": "2018-07-21T13:16:04.683621Z"
    }
   },
   "outputs": [],
   "source": [
    "27 % 5"
   ]
  },
  {
   "cell_type": "code",
   "execution_count": null,
   "metadata": {
    "ExecuteTime": {
     "end_time": "2018-07-21T13:15:43.009878Z",
     "start_time": "2018-07-21T13:15:43.004534Z"
    }
   },
   "outputs": [],
   "source": [
    "27 // 5"
   ]
  },
  {
   "cell_type": "code",
   "execution_count": null,
   "metadata": {
    "ExecuteTime": {
     "end_time": "2018-07-21T13:16:24.894368Z",
     "start_time": "2018-07-21T13:16:24.887363Z"
    }
   },
   "outputs": [],
   "source": [
    "4 % 2 == 0"
   ]
  },
  {
   "cell_type": "markdown",
   "metadata": {
    "collapsed": true
   },
   "source": [
    "## Defining Functions"
   ]
  },
  {
   "cell_type": "code",
   "execution_count": null,
   "metadata": {
    "ExecuteTime": {
     "end_time": "2018-07-21T13:17:18.712264Z",
     "start_time": "2018-07-21T13:17:18.707935Z"
    },
    "collapsed": true
   },
   "outputs": [],
   "source": [
    "def printing_evens(number_list):\n",
    "    for number in number_list:\n",
    "        if number % 2 == 0:\n",
    "            print(number)"
   ]
  },
  {
   "cell_type": "code",
   "execution_count": null,
   "metadata": {
    "ExecuteTime": {
     "end_time": "2018-07-21T13:17:49.464014Z",
     "start_time": "2018-07-21T13:17:49.459894Z"
    },
    "collapsed": true
   },
   "outputs": [],
   "source": [
    "new_number_list = [1, 2, 3, 4, 5, 6, 7, 8, 9, 100]"
   ]
  },
  {
   "cell_type": "code",
   "execution_count": null,
   "metadata": {
    "ExecuteTime": {
     "end_time": "2018-07-21T13:17:57.287919Z",
     "start_time": "2018-07-21T13:17:57.281161Z"
    }
   },
   "outputs": [],
   "source": [
    "printing_evens(new_number_list)"
   ]
  },
  {
   "cell_type": "code",
   "execution_count": null,
   "metadata": {
    "ExecuteTime": {
     "end_time": "2018-07-21T13:19:58.796582Z",
     "start_time": "2018-07-21T13:19:58.790061Z"
    },
    "collapsed": true
   },
   "outputs": [],
   "source": [
    "def cut_evens_inhalf(number_list):\n",
    "    halfsies = []\n",
    "    \n",
    "    for number in number_list:\n",
    "        if number % 2 == 0:\n",
    "            half = number / 2\n",
    "            halfsies.append(half)\n",
    "    \n",
    "    return halfsies"
   ]
  },
  {
   "cell_type": "code",
   "execution_count": null,
   "metadata": {
    "ExecuteTime": {
     "end_time": "2018-07-21T13:19:58.985986Z",
     "start_time": "2018-07-21T13:19:58.980102Z"
    }
   },
   "outputs": [],
   "source": [
    "cut_evens_inhalf(new_number_list)"
   ]
  },
  {
   "cell_type": "markdown",
   "metadata": {},
   "source": [
    "It's worth noting the difference between methods and functions:\n",
    "\n",
    "Methods are sort of like functions that are built into a specific datatype and can transform objects. They can take arguments in the parenthesis but don't always require it. They tend to be added to the back of the object you're transforming:\n",
    "\n",
    "```\n",
    "EXAMPLES:\n",
    "text.split()\n",
    "string.upper()\n",
    "list.append(new_item)\n",
    "```\n",
    "\n",
    "Functions are like a set of transformation instructions you make after passing in the objects you want to transform. Then the function returns the new, transformed, object:\n",
    "\n",
    "```\n",
    "EXAMPLES:\n",
    "print(something)\n",
    "len(something)\n",
    "custom_function(something)\n",
    "```\n"
   ]
  },
  {
   "cell_type": "code",
   "execution_count": null,
   "metadata": {
    "collapsed": true
   },
   "outputs": [],
   "source": []
  }
 ],
 "metadata": {
  "kernelspec": {
   "display_name": "Python 3",
   "language": "python",
   "name": "python3"
  },
  "language_info": {
   "codemirror_mode": {
    "name": "ipython",
    "version": 3
   },
   "file_extension": ".py",
   "mimetype": "text/x-python",
   "name": "python",
   "nbconvert_exporter": "python",
   "pygments_lexer": "ipython3",
   "version": "3.6.3"
  },
  "toc": {
   "nav_menu": {},
   "number_sections": true,
   "sideBar": true,
   "skip_h1_title": false,
   "title_cell": "Table of Contents",
   "title_sidebar": "Contents",
   "toc_cell": false,
   "toc_position": {},
   "toc_section_display": true,
   "toc_window_display": false
  },
  "varInspector": {
   "cols": {
    "lenName": 16,
    "lenType": 16,
    "lenVar": 40
   },
   "kernels_config": {
    "python": {
     "delete_cmd_postfix": "",
     "delete_cmd_prefix": "del ",
     "library": "var_list.py",
     "varRefreshCmd": "print(var_dic_list())"
    },
    "r": {
     "delete_cmd_postfix": ") ",
     "delete_cmd_prefix": "rm(",
     "library": "var_list.r",
     "varRefreshCmd": "cat(var_dic_list()) "
    }
   },
   "types_to_exclude": [
    "module",
    "function",
    "builtin_function_or_method",
    "instance",
    "_Feature"
   ],
   "window_display": false
  }
 },
 "nbformat": 4,
 "nbformat_minor": 2
}
